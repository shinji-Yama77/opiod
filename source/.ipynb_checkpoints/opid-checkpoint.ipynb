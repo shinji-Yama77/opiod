{
 "cells": [
  {
   "cell_type": "code",
   "execution_count": 1,
   "id": "6b0a138b",
   "metadata": {},
   "outputs": [],
   "source": [
    "import pandas as pd"
   ]
  },
  {
   "cell_type": "code",
   "execution_count": 2,
   "id": "7d5f6cf1",
   "metadata": {},
   "outputs": [],
   "source": [
    "excel_data_df = pd.read_excel('output.xlsx')"
   ]
  },
  {
   "cell_type": "code",
   "execution_count": null,
   "id": "7c9a791a",
   "metadata": {},
   "outputs": [],
   "source": [
    "excel_data_df\n",
    "\n",
    "# sex, race, gender, age \n",
    "\n",
    "\n",
    "genders = ['Male', 'Female']\n",
    "ethnicities = ['Hispanic or Latino', 'Not Hispanic or Latino']\n",
    "races = ['White', 'Black', 'American Indian or Alaska Native', 'Asian or Pacific Islander', \n",
    "         'Native Hawaiian or Other Pacific Islander', 'Black or African American', 'Asian']\n",
    "age_groups = ['All persons', 'Under 15 years', '15-24 years', '25-34 years', '35-44 years', '45-54 years', \n",
    "              '55-64 years', '65-74 years', '75-84 years', '85 years and over']\n",
    "\n",
    "# Function to extract categories\n",
    "def extract_categories(description):\n",
    "    gender = next((g for g in genders if g in description), None)\n",
    "    ethnicity = next((e for e in ethnicities if e in description), None)\n",
    "    race = next((r for r in races if r in description), None)\n",
    "    age_group = next((a for a in age_groups if a in description), None)\n",
    "    return pd.Series([gender, ethnicity, race, age_group])\n",
    "\n",
    "# Apply the function\n",
    "excel_data_df[['Gender', 'Ethnicity', 'Race', 'Age Group']] = excel_data_df['STUB_LABEL'].apply(extract_categories)\n",
    "\n",
    "\n",
    "\n",
    "\n",
    "\n"
   ]
  },
  {
   "cell_type": "code",
   "execution_count": null,
   "id": "704bb464",
   "metadata": {},
   "outputs": [],
   "source": []
  },
  {
   "cell_type": "code",
   "execution_count": null,
   "id": "3cadf7d2",
   "metadata": {},
   "outputs": [],
   "source": [
    "excel_data_df.isnull().sum()"
   ]
  },
  {
   "cell_type": "code",
   "execution_count": null,
   "id": "13feffbf",
   "metadata": {},
   "outputs": [],
   "source": [
    "excel_data_df[\"STUB_LABEL\"].value_counts()"
   ]
  },
  {
   "cell_type": "code",
   "execution_count": null,
   "id": "e5cb36ec",
   "metadata": {},
   "outputs": [],
   "source": [
    "excel_data_df[\"AGE\"].value_counts()"
   ]
  },
  {
   "cell_type": "code",
   "execution_count": null,
   "id": "e241de94",
   "metadata": {},
   "outputs": [],
   "source": [
    "excel_data_df[\"STUB_NAME\"]"
   ]
  },
  {
   "cell_type": "code",
   "execution_count": null,
   "id": "633bf258",
   "metadata": {},
   "outputs": [],
   "source": [
    "excel_data_df[\"INDICATOR\"].value_counts()"
   ]
  },
  {
   "cell_type": "code",
   "execution_count": null,
   "id": "a07a2e54",
   "metadata": {},
   "outputs": [],
   "source": [
    "excel_data_df[\"PANEL\"].value_counts()"
   ]
  },
  {
   "cell_type": "code",
   "execution_count": null,
   "id": "3cc43b12",
   "metadata": {},
   "outputs": [],
   "source": [
    "excel_data_df[\"STUB_LABEL\"].value_counts()"
   ]
  },
  {
   "cell_type": "code",
   "execution_count": null,
   "id": "f53be810",
   "metadata": {},
   "outputs": [],
   "source": [
    "# gender\n",
    "# Age\n",
    "# "
   ]
  }
 ],
 "metadata": {
  "kernelspec": {
   "display_name": "opid_env",
   "language": "python",
   "name": "opid_env"
  },
  "language_info": {
   "codemirror_mode": {
    "name": "ipython",
    "version": 3
   },
   "file_extension": ".py",
   "mimetype": "text/x-python",
   "name": "python",
   "nbconvert_exporter": "python",
   "pygments_lexer": "ipython3",
   "version": "3.11.4"
  }
 },
 "nbformat": 4,
 "nbformat_minor": 5
}
